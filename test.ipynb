{
 "cells": [
  {
   "cell_type": "code",
   "execution_count": 1,
   "metadata": {},
   "outputs": [
    {
     "name": "stdout",
     "output_type": "stream",
     "text": [
      "['neighborhood', 'pop_census_2015', 'number__with_valid_bmi', 'percent_with_valid_bmi', '_unadj_percent_overweight', '_unadj_percent_obesity\\n', 'unadj_percent__both_', '_adjusted_percent__overweight_', '_adjusted__percent__obesity\\n', 'adjusted_percent_both']\n",
      "10\n",
      "Table \"public.den_neighborhood_bmi\" has been created in the database.\n"
     ]
    }
   ],
   "source": [
    "import db_utils\n",
    "\n",
    "csv_location = r\"/Users/pathall/Library/CloudStorage/OneDrive-TheUniversityofColoradoDenver/Classwork/Current Classes/Independent Study - Obesity/Denver County BMI 2014-2016.csv\"\n",
    "schema = \"public\"\n",
    "new_table_name = \"den_neighborhood_bmi\"\n",
    "\n",
    "db_utils.create_table_columns_from_csv(csv_location,schema,new_table_name,delim=',')\n"
   ]
  },
  {
   "cell_type": "code",
   "execution_count": 2,
   "metadata": {},
   "outputs": [
    {
     "name": "stdout",
     "output_type": "stream",
     "text": [
      "neighborhood                       object\n",
      "pop_census_2015                    object\n",
      "number_ with valid bmi             object\n",
      "percent_with_valid_bmi             object\n",
      " unadj percent overweight         float64\n",
      " unadj percent obesity\\n          float64\n",
      "unadj percent  both               float64\n",
      " adjusted percent  overweight     float64\n",
      " adjusted  percent  obesity\\n     float64\n",
      "adjusted percent both              object\n",
      "dtype: object\n"
     ]
    }
   ],
   "source": [
    "import pandas as pd\n",
    "\n",
    "df = pd.read_csv(csv_location, sep=',')\n",
    "print(df.dtypes)"
   ]
  },
  {
   "cell_type": "code",
   "execution_count": 2,
   "metadata": {},
   "outputs": [
    {
     "name": "stdout",
     "output_type": "stream",
     "text": [
      "neighborhood                       object\n",
      "pop_census_2015                     int64\n",
      "number_ with valid bmi            float64\n",
      "percent_with_valid_bmi            float64\n",
      " unadj percent overweight         float64\n",
      " unadj percent obesity\\n          float64\n",
      "unadj percent  both               float64\n",
      " adjusted percent  overweight     float64\n",
      " adjusted  percent  obesity\\n     float64\n",
      "adjusted percent both             float64\n",
      "dtype: object\n"
     ]
    }
   ],
   "source": [
    "import pandas as pd\n",
    "\n",
    "ex_loc = r\"/Users/pathall/Downloads/Denver County BMI 2014-2016.xlsx\"\n",
    "sheetn = \"Sheet1\"\n",
    "\n",
    "dfx = pd.read_excel(io=ex_loc,sheet_name=sheetn)\n",
    "#pd.read_excel()\n",
    "\n",
    "print(dfx.dtypes)"
   ]
  },
  {
   "cell_type": "code",
   "execution_count": 1,
   "metadata": {},
   "outputs": [
    {
     "name": "stdout",
     "output_type": "stream",
     "text": [
      "neighborhood TEXT\n",
      "pop_census_2015 BIGINT\n",
      "number__with_valid_bmi DOUBLE PRECISION\n",
      "percent_with_valid_bmi DOUBLE PRECISION\n",
      "_unadj_percent_overweight DOUBLE PRECISION\n",
      "_unadj_percent_obesity\n",
      " DOUBLE PRECISION\n",
      "unadj_percent__both_ DOUBLE PRECISION\n",
      "_adjusted_percent__overweight_ DOUBLE PRECISION\n",
      "_adjusted__percent__obesity\n",
      " DOUBLE PRECISION\n",
      "adjusted_percent_both DOUBLE PRECISION\n",
      "\n",
      "10 columns identified and formatted.\n",
      "\n",
      "Table \"public.den_bmi\" has been created in the database obesity_rates.\n"
     ]
    }
   ],
   "source": [
    "import db_utils as db\n",
    "\n",
    "xlsx_filepath = r\"/Users/pathall/Downloads/Denver County BMI 2014-2016.xlsx\"\n",
    "ws_name = \"Sheet1\"\n",
    "schema = \"public\"\n",
    "new_table_name = 'den_bmi'\n",
    "\n",
    "db.create_table_columns_from_excel(xlsx_filepath,ws_name,schema,new_table_name)"
   ]
  },
  {
   "cell_type": "code",
   "execution_count": 2,
   "metadata": {},
   "outputs": [
    {
     "name": "stdout",
     "output_type": "stream",
     "text": [
      "inserting values across 10 columns in obesity_rates.public.den_bmi\n",
      "\n",
      "executing INSERT...\n",
      "INSERT executed.\n",
      "changes committed!\n",
      "connection closed.\n",
      "\n",
      "38 values have been inserted into \"public.den_bmi\" in the database obesity_rates.\n"
     ]
    }
   ],
   "source": [
    "import db_utils as db\n",
    "\n",
    "xlsx_filepath = r\"/Users/pathall/Downloads/Denver County BMI 2014-2016.xlsx\"\n",
    "ws_name = \"Sheet1\"\n",
    "schema = \"public\"\n",
    "table_name = 'den_bmi'\n",
    "\n",
    "db.insert_rows_from_excel(xlsx_filepath,ws_name,schema,table_name)"
   ]
  }
 ],
 "metadata": {
  "kernelspec": {
   "display_name": "venv",
   "language": "python",
   "name": "python3"
  },
  "language_info": {
   "codemirror_mode": {
    "name": "ipython",
    "version": 3
   },
   "file_extension": ".py",
   "mimetype": "text/x-python",
   "name": "python",
   "nbconvert_exporter": "python",
   "pygments_lexer": "ipython3",
   "version": "3.13.0"
  }
 },
 "nbformat": 4,
 "nbformat_minor": 2
}
