{
 "cells": [
  {
   "cell_type": "code",
   "execution_count": 1,
   "metadata": {},
   "outputs": [
    {
     "name": "stdout",
     "output_type": "stream",
     "text": [
      "error: connection not valid. Try changing connection parameter.\n"
     ]
    },
    {
     "ename": "UnboundLocalError",
     "evalue": "cannot access local variable 'connection' where it is not associated with a value",
     "output_type": "error",
     "traceback": [
      "\u001b[0;31m---------------------------------------------------------------------------\u001b[0m",
      "\u001b[0;31mUnboundLocalError\u001b[0m                         Traceback (most recent call last)",
      "Cell \u001b[0;32mIn[1], line 7\u001b[0m\n\u001b[1;32m      4\u001b[0m schema \u001b[38;5;241m=\u001b[39m \u001b[38;5;124m\"\u001b[39m\u001b[38;5;124mpublic\u001b[39m\u001b[38;5;124m\"\u001b[39m\n\u001b[1;32m      5\u001b[0m new_table_name \u001b[38;5;241m=\u001b[39m \u001b[38;5;124m\"\u001b[39m\u001b[38;5;124mden_neighborhood_bmi\u001b[39m\u001b[38;5;124m\"\u001b[39m\n\u001b[0;32m----> 7\u001b[0m \u001b[43mdb_utils\u001b[49m\u001b[38;5;241;43m.\u001b[39;49m\u001b[43mcreate_table_columns_from_csv\u001b[49m\u001b[43m(\u001b[49m\u001b[43mcsv_location\u001b[49m\u001b[43m,\u001b[49m\u001b[43mschema\u001b[49m\u001b[43m,\u001b[49m\u001b[43mnew_table_name\u001b[49m\u001b[43m,\u001b[49m\u001b[43mdelim\u001b[49m\u001b[38;5;241;43m=\u001b[39;49m\u001b[38;5;124;43m'\u001b[39;49m\u001b[38;5;124;43m,\u001b[39;49m\u001b[38;5;124;43m'\u001b[39;49m\u001b[43m)\u001b[49m\n",
      "File \u001b[0;32m~/Documents/F1_Data_Project/PythonDataTools/db_utils.py:74\u001b[0m, in \u001b[0;36mcreate_table_columns_from_csv\u001b[0;34m(csv_file_path, schema, new_table_name, delim)\u001b[0m\n\u001b[1;32m     71\u001b[0m password \u001b[38;5;241m=\u001b[39m os\u001b[38;5;241m.\u001b[39menviron\u001b[38;5;241m.\u001b[39mget(\u001b[38;5;124m\"\u001b[39m\u001b[38;5;124mPASSWORD\u001b[39m\u001b[38;5;124m\"\u001b[39m)\n\u001b[1;32m     73\u001b[0m \u001b[38;5;66;03m# Create a connection + cursor to the PostgreSQL database\u001b[39;00m\n\u001b[0;32m---> 74\u001b[0m cur,conn \u001b[38;5;241m=\u001b[39m \u001b[43minitiate_pg_cursor\u001b[49m\u001b[43m(\u001b[49m\u001b[43mdbname\u001b[49m\u001b[43m,\u001b[49m\u001b[43muser\u001b[49m\u001b[43m,\u001b[49m\u001b[43mpassword\u001b[49m\u001b[43m)\u001b[49m \u001b[38;5;66;03m#connects to db and creates cursor object\u001b[39;00m\n\u001b[1;32m     77\u001b[0m df \u001b[38;5;241m=\u001b[39m pd\u001b[38;5;241m.\u001b[39mread_csv(csv_file_path, sep\u001b[38;5;241m=\u001b[39mdelim, nrows\u001b[38;5;241m=\u001b[39m\u001b[38;5;241m1\u001b[39m)  \u001b[38;5;66;03m# Read only the first row to get column names\u001b[39;00m\n\u001b[1;32m     78\u001b[0m column_names \u001b[38;5;241m=\u001b[39m df\u001b[38;5;241m.\u001b[39mcolumns\u001b[38;5;241m.\u001b[39mtolist()\n",
      "File \u001b[0;32m~/Documents/F1_Data_Project/PythonDataTools/db_utils.py:108\u001b[0m, in \u001b[0;36minitiate_pg_cursor\u001b[0;34m(dbname, user, password)\u001b[0m\n\u001b[1;32m    104\u001b[0m     \u001b[38;5;28mprint\u001b[39m(\u001b[38;5;124m\"\u001b[39m\u001b[38;5;124merror: connection not valid. Try changing connection parameter.\u001b[39m\u001b[38;5;124m\"\u001b[39m)\n\u001b[1;32m    107\u001b[0m \u001b[38;5;66;03m#connection = pg.connect(f\"dbname=obesity_rates user=postgres password=postgres\")\u001b[39;00m\n\u001b[0;32m--> 108\u001b[0m cursor \u001b[38;5;241m=\u001b[39m \u001b[43mconnection\u001b[49m\u001b[38;5;241m.\u001b[39mcursor()\n\u001b[1;32m    110\u001b[0m \u001b[38;5;28;01mreturn\u001b[39;00m cursor,connection\n",
      "\u001b[0;31mUnboundLocalError\u001b[0m: cannot access local variable 'connection' where it is not associated with a value"
     ]
    }
   ],
   "source": [
    "import db_utils\n",
    "\n",
    "csv_location = r\"/Users/pathall/Library/CloudStorage/OneDrive-TheUniversityofColoradoDenver/Classwork/Current Classes/Independent Study - Obesity/Denver County BMI 2014-2016.csv\"\n",
    "schema = \"public\"\n",
    "new_table_name = \"den_neighborhood_bmi\"\n",
    "\n",
    "db_utils.create_table_columns_from_csv(csv_location,schema,new_table_name,delim=',')\n"
   ]
  },
  {
   "cell_type": "markdown",
   "metadata": {},
   "source": []
  },
  {
   "cell_type": "code",
   "execution_count": null,
   "metadata": {},
   "outputs": [],
   "source": []
  }
 ],
 "metadata": {
  "kernelspec": {
   "display_name": "venv",
   "language": "python",
   "name": "python3"
  },
  "language_info": {
   "codemirror_mode": {
    "name": "ipython",
    "version": 3
   },
   "file_extension": ".py",
   "mimetype": "text/x-python",
   "name": "python",
   "nbconvert_exporter": "python",
   "pygments_lexer": "ipython3",
   "version": "3.13.0"
  }
 },
 "nbformat": 4,
 "nbformat_minor": 2
}
